{
 "cells": [
  {
   "cell_type": "code",
   "execution_count": 10,
   "metadata": {},
   "outputs": [
    {
     "ename": "TypeError",
     "evalue": "'str' object is not callable",
     "output_type": "error",
     "traceback": [
      "\u001b[1;31m---------------------------------------------------------------------------\u001b[0m",
      "\u001b[1;31mTypeError\u001b[0m                                 Traceback (most recent call last)",
      "\u001b[1;32m<ipython-input-10-f1a8e6c7c363>\u001b[0m in \u001b[0;36m<module>\u001b[1;34m\u001b[0m\n\u001b[0;32m     13\u001b[0m \u001b[0mdriver\u001b[0m\u001b[1;33m.\u001b[0m\u001b[0mfind_element_by_css_selector\u001b[0m\u001b[1;33m(\u001b[0m\u001b[1;34m'#srch_txt'\u001b[0m\u001b[1;33m)\u001b[0m\u001b[1;33m.\u001b[0m\u001b[0msend_keys\u001b[0m\u001b[1;33m(\u001b[0m\u001b[1;34m'19801111'\u001b[0m\u001b[1;33m)\u001b[0m\u001b[1;33m\u001b[0m\u001b[1;33m\u001b[0m\u001b[0m\n\u001b[0;32m     14\u001b[0m \u001b[0mdriver\u001b[0m\u001b[1;33m.\u001b[0m\u001b[0mfind_element_by_xpath\u001b[0m\u001b[1;33m(\u001b[0m\u001b[1;34m'//*[@id=\"fortune_birthCondition\"]/div[1]/fieldset/input'\u001b[0m\u001b[1;33m)\u001b[0m\u001b[1;33m.\u001b[0m\u001b[0mclick\u001b[0m\u001b[1;33m(\u001b[0m\u001b[1;33m)\u001b[0m\u001b[1;33m\u001b[0m\u001b[1;33m\u001b[0m\u001b[0m\n\u001b[1;32m---> 15\u001b[1;33m \u001b[0mdriver\u001b[0m\u001b[1;33m.\u001b[0m\u001b[0mfind_element_by_xpath\u001b[0m\u001b[1;33m(\u001b[0m\u001b[1;34m'//*[@id=\"fortune_birthResult\"]/dl[1]/dd/p'\u001b[0m\u001b[1;33m)\u001b[0m\u001b[1;33m.\u001b[0m\u001b[0mtext\u001b[0m\u001b[1;33m(\u001b[0m\u001b[1;33m)\u001b[0m\u001b[1;33m\u001b[0m\u001b[1;33m\u001b[0m\u001b[0m\n\u001b[0m",
      "\u001b[1;31mTypeError\u001b[0m: 'str' object is not callable"
     ]
    }
   ],
   "source": [
    "from selenium import webdriver\n",
    "import time\n",
    "from bs4 import BeautifulSoup\n",
    "driver = webdriver.Chrome('chromedriver.exe')\n",
    "driver.implicitly_wait(3)\n",
    "url = \"https://search.naver.com/search.naver?sm=top_hty&fbm=1&ie=utf8&query=%EB%84%A4%EC%9D%B4%EB%B2%84%EC%9A%B4%EC%84%B8\"\n",
    "driver.get(url)\n",
    "\n",
    "driver.find_element_by_xpath('//*[@id=\"srch_txt\"]').click()\n",
    "driver.find_element_by_css_selector('#nx_query').click()\n",
    "time.sleep(1)\n",
    "driver.find_element_by_xpath('//*[@id=\"srch_txt\"]').click()\n",
    "driver.find_element_by_css_selector('#srch_txt').send_keys('19801111')\n",
    "driver.find_element_by_xpath('//*[@id=\"fortune_birthCondition\"]/div[1]/fieldset/input').click()\n",
    "driver.find_element_by_xpath('//*[@id=\"fortune_birthResult\"]/dl[1]/dd/p').text()"
   ]
  },
  {
   "cell_type": "code",
   "execution_count": 12,
   "metadata": {},
   "outputs": [],
   "source": [
    "url = \"https://search.naver.com/search.naver?sm=top_hty&fbm=1&ie=utf8&query=%EB%84%A4%EC%9D%B4%EB%B2%84%EC%9A%B4%EC%84%B8\"\n",
    "driver.get(url)\n"
   ]
  },
  {
   "cell_type": "code",
   "execution_count": 13,
   "metadata": {},
   "outputs": [],
   "source": [
    "driver.find_element_by_xpath('//*[@id=\"srch_txt\"]').click()\n",
    "driver.find_element_by_css_selector('#srch_txt').send_keys('19801111')"
   ]
  },
  {
   "cell_type": "code",
   "execution_count": 9,
   "metadata": {},
   "outputs": [
    {
     "data": {
      "text/plain": [
       "['__class__',\n",
       " '__delattr__',\n",
       " '__dict__',\n",
       " '__dir__',\n",
       " '__doc__',\n",
       " '__eq__',\n",
       " '__format__',\n",
       " '__ge__',\n",
       " '__getattribute__',\n",
       " '__gt__',\n",
       " '__hash__',\n",
       " '__init__',\n",
       " '__init_subclass__',\n",
       " '__le__',\n",
       " '__lt__',\n",
       " '__module__',\n",
       " '__ne__',\n",
       " '__new__',\n",
       " '__reduce__',\n",
       " '__reduce_ex__',\n",
       " '__repr__',\n",
       " '__setattr__',\n",
       " '__sizeof__',\n",
       " '__str__',\n",
       " '__subclasshook__',\n",
       " '__weakref__',\n",
       " '_execute',\n",
       " '_id',\n",
       " '_parent',\n",
       " '_upload',\n",
       " '_w3c',\n",
       " 'clear',\n",
       " 'click',\n",
       " 'find_element',\n",
       " 'find_element_by_class_name',\n",
       " 'find_element_by_css_selector',\n",
       " 'find_element_by_id',\n",
       " 'find_element_by_link_text',\n",
       " 'find_element_by_name',\n",
       " 'find_element_by_partial_link_text',\n",
       " 'find_element_by_tag_name',\n",
       " 'find_element_by_xpath',\n",
       " 'find_elements',\n",
       " 'find_elements_by_class_name',\n",
       " 'find_elements_by_css_selector',\n",
       " 'find_elements_by_id',\n",
       " 'find_elements_by_link_text',\n",
       " 'find_elements_by_name',\n",
       " 'find_elements_by_partial_link_text',\n",
       " 'find_elements_by_tag_name',\n",
       " 'find_elements_by_xpath',\n",
       " 'get_attribute',\n",
       " 'get_property',\n",
       " 'id',\n",
       " 'is_displayed',\n",
       " 'is_enabled',\n",
       " 'is_selected',\n",
       " 'location',\n",
       " 'location_once_scrolled_into_view',\n",
       " 'parent',\n",
       " 'rect',\n",
       " 'screenshot',\n",
       " 'screenshot_as_base64',\n",
       " 'screenshot_as_png',\n",
       " 'send_keys',\n",
       " 'size',\n",
       " 'submit',\n",
       " 'tag_name',\n",
       " 'text',\n",
       " 'value_of_css_property']"
      ]
     },
     "execution_count": 9,
     "metadata": {},
     "output_type": "execute_result"
    }
   ],
   "source": [
    "dir(driver.find_element_by_xpath('//*[@id=\"srch_txt\"]'))"
   ]
  },
  {
   "cell_type": "code",
   "execution_count": null,
   "metadata": {},
   "outputs": [],
   "source": [
    "from selenium import webdriver\n",
    "import re, requests\n",
    "from bs4 import BeautifulSoup\n",
    "url = f\"\"\"https://news.naver.com/main/ranking/popularDay.nhn?mid=etc&sid1=111\"\"\"\n",
    "response = requests.get(url)\n",
    "soup = BeautifulSoup(response.content, \"html.parser\")\n",
    "tags = soup.select(\"ul.section_list_ranking\")\n",
    "tags[0].get_text()"
   ]
  },
  {
   "cell_type": "code",
   "execution_count": null,
   "metadata": {},
   "outputs": [],
   "source": [
    "# import re\n",
    "# import requests\n",
    "\n",
    "# def get_urls(url):\n",
    "#     response = requests.get(url)\n",
    "    \n",
    "#     if response.status_code == 200:\n",
    "#         regex = re.compile('href=[\"\\'](.+)[\"\\']')\n",
    "#         return re.findall(regex, response.text)\n",
    "#     else:\n",
    "#         return []\n",
    "\n",
    "# get_urls('http://info.cern.ch')"
   ]
  },
  {
   "cell_type": "code",
   "execution_count": 102,
   "metadata": {},
   "outputs": [],
   "source": [
    "# from selenium import webdriver\n",
    "# import re\n",
    "# from bs4 import BeautifulSoup\n",
    "\n",
    "# driver = webdriver.Chrome('chromedriver.exe')\n",
    "# driver.implicitly_wait(3)\n",
    "# url = f\"\"\"https://news.naver.com/main/ranking/popularDay.nhn?mid=etc&sid1=111\"\"\"\n",
    "# driver.get(url)\n",
    "\n",
    "# for n in range(4,10):\n",
    "#     for i in range(1,6):\n",
    "#         driver.find_element_by_xpath(f\"\"\"//*[@id=\"wrap\"]/table/tbody/tr/td[2]/div/div[{n}]/ol/li[{i}]/dl/dt/a\"\"\").click()\n",
    "#         driver.page_source\n",
    "#         soup = BeautifulSoup(driver.page_source, \"html.parser\")\n",
    "#         tags = soup.select('._article_body_contents')[0].get_text()\n",
    "#         print(tags)\n",
    "# #         with open(f\"foo{i}.txt\", \"w\") as f:\n",
    "# #             f.writelines(tags)\n",
    "#         driver.find_element_by_xpath('//*[@id=\"lnb\"]/ul/li[12]/a').click()    \n",
    "        \n"
   ]
  },
  {
   "cell_type": "code",
   "execution_count": 39,
   "metadata": {},
   "outputs": [
    {
     "name": "stdout",
     "output_type": "stream",
     "text": [
      "\n",
      "1 [속보]여야, 내일부터 ‘코로나19 재난지원금’ 추경안 심사 착수 \n",
      "2 계속되는 '김정은 미스터리'에 미국 정부당국자 \"추측에 불과\" \n",
      "3 심재철 \"김종인, 내년 3월까지 대선승리 준비 마치고 떠날 것\"(종합) \n",
      "4 \"청와대 봉투, 갖고나가지 말라\" 靑비서실장 김정렴의 처신 \n",
      "5 [속보] 與野, 재난지원금 중 1조원 세출조정으로 마련키로…내일부터 심사 \n",
      "6 김여정·평일 후계론은 북한 주민에 대한 모독이다 [우아한 특별기고] \n",
      "7 北 창군 기념일에도 안나타난 김정은…`건강이상설` 증폭 \n",
      "8 홍준표, 연이틀 김종인에 ‘맹폭’… “뇌물 전과자가 당 농단” \n",
      "9 여야, 재난지원금 추경 심사착수…추가재원 1조원, 세출조정키로(종합) \n",
      "10 역대최장수 靑비서실장 김정렴 별세…박정희정부 고도성장 기틀 \n",
      "\n",
      "**********\n",
      "\n",
      "1 [속보]여야, 내일부터 ‘코로나19 재난지원금’ 추경안 심사 착수 \n",
      "2 계속되는 '김정은 미스터리'에 미국 정부당국자 \"추측에 불과\" \n",
      "3 심재철 \"김종인, 내년 3월까지 대선승리 준비 마치고 떠날 것\"(종합) \n",
      "4 \"청와대 봉투, 갖고나가지 말라\" 靑비서실장 김정렴의 처신 \n",
      "5 [속보] 與野, 재난지원금 중 1조원 세출조정으로 마련키로…내일부터 심사 \n",
      "6 김여정·평일 후계론은 북한 주민에 대한 모독이다 [우아한 특별기고] \n",
      "7 北 창군 기념일에도 안나타난 김정은…`건강이상설` 증폭 \n",
      "8 홍준표, 연이틀 김종인에 ‘맹폭’… “뇌물 전과자가 당 농단” \n",
      "9 여야, 재난지원금 추경 심사착수…추가재원 1조원, 세출조정키로(종합) \n",
      "10 역대최장수 靑비서실장 김정렴 별세…박정희정부 고도성장 기틀 \n",
      "\n"
     ]
    }
   ],
   "source": [
    "import re\n",
    "import requests\n",
    "from bs4 import BeautifulSoup\n",
    "\n",
    "url = f\"\"\"https://news.naver.com/main/ranking/popularDay.nhn?mid=etc&sid1=111\"\"\"\n",
    "response = requests.get(url)\n",
    "soup = BeautifulSoup(response.content, \"html.parser\")\n",
    "tags = soup.select(\"ul.section_list_ranking\")\n",
    "texts = tags[0].get_text()\n",
    "print(texts)\n",
    "print(\"**********\")\n",
    "regex = re.compile(\"(\\s\\d\\s)\")\n",
    "regex.findall(texts)\n",
    "\n",
    "\n",
    "for i in '123456789':\n",
    "    texts.replace(i, \"3333\")\n",
    "print(texts)\n"
   ]
  },
  {
   "cell_type": "code",
   "execution_count": 78,
   "metadata": {},
   "outputs": [
    {
     "name": "stdout",
     "output_type": "stream",
     "text": [
      "[<p class=\"dsc\"><em class=\"txt\">동일한 시간대/연령/남녀별</em> 사용자 그룹의<br/>관심사에 맞춰 자동완성을 제공합니다.</p>, <p class=\"dsc\">ON/OFF설정은<br/>해당 기기(브라우저)에 저장됩니다.</p>, <p class=\"func _atcmpBtnGroup\"><span class=\"fl\"><a class=\"_help\" href=\"https://help.naver.com/support/alias/search/word/word_17.naver\" onclick=\"__atcmpCR(event, this, 'help', '','','');\" target=\"_blank\">도움말</a><span class=\"atcmp_bar\"></span><a class=\"report\" href=\"https://help.naver.com/support/alias/search/word/word_18.naver\" onclick=\"__atcmpCR(event, this, 'report', '','','');\" target=\"_blank\">신고</a></span><span><em><a class=\"hisoff\" href=\"javascript:;\">검색어저장 켜기</a><span class=\"atcmp_bar\"></span></em><a class=\"funoff\" href=\"javascript:;\">자동완성 끄기</a></span></p>, <p class=\"info_words\">현재 자동완성 기능을 사용하고 계십니다.</p>, <p class=\"func _atcmpBtnGroup\"><span class=\"fl\"><a class=\"_help\" href=\"https://help.naver.com/support/alias/search/word/word_17.naver\" onclick=\"__atcmpCR(event, this, 'help', '','','');\" target=\"_blank\">도움말</a><span class=\"atcmp_bar\"></span><a class=\"report\" href=\"https://help.naver.com/support/alias/search/word/word_18.naver\" onclick=\"__atcmpCR(event, this, 'report', '','','');\" target=\"_blank\">신고</a></span><span><em><a class=\"hisoff\" href=\"javascript:;\">검색어저장 켜기</a><span class=\"atcmp_bar\"></span></em><a class=\"funoff\" href=\"javascript:;\">자동완성 끄기</a></span></p>, <p class=\"info_words\">자동완성 기능이 활성화되었습니다.</p>, <p class=\"func _atcmpBtnGroup\"><span class=\"fl\"><a class=\"_help\" href=\"https://help.naver.com/support/alias/search/word/word_17.naver\" onclick=\"__atcmpCR(event, this, 'help', '','','');\" target=\"_blank\">도움말</a><span class=\"atcmp_bar\"></span><a class=\"report\" href=\"https://help.naver.com/support/alias/search/word/word_18.naver\" onclick=\"__atcmpCR(event, this, 'report', '','','');\" target=\"_blank\">신고</a></span><span><em><a class=\"hisoff\" href=\"javascript:;\">검색어저장 켜기</a><span class=\"atcmp_bar\"></span></em><a class=\"funoff\" href=\"javascript:;\">자동완성 끄기</a></span></p>, <p class=\"info_words\">자동완성 기능이 꺼져 있습니다.</p>, <p class=\"func _atcmpBtnGroup\"><span class=\"fl\"><a class=\"_help\" href=\"https://help.naver.com/support/alias/search/word/word_17.naver\" onclick=\"__atcmpCR(event, this, 'help', '','','');\" target=\"_blank\">도움말</a><span class=\"atcmp_bar\"></span><a class=\"report\" href=\"https://help.naver.com/support/alias/search/word/word_18.naver\" onclick=\"__atcmpCR(event, this, 'report', '','','');\" target=\"_blank\">신고</a></span><span><em><a class=\"hisoff\" href=\"javascript:;\">검색어저장 켜기</a><span class=\"atcmp_bar\"></span></em><a class=\"funoff\" href=\"javascript:;\">자동완성 켜기</a></span></p>, <p class=\"info_words _offMsg\" style=\"display:none\">검색어 저장 기능이 꺼져 있습니다.</p>, <p class=\"info_words _offMsg\" style=\"display:none\">검색어 저장 기능이 꺼져 있습니다.</p>, <p class=\"noti _noti\" style=\"display:none\"><em class=\"ico_noti spat\"><span class=\"blind\">알림</span></em>공용 PC에서는 개인정보 보호를 위하여 반드시 로그아웃을 해 주세요.</p>, <p class=\"func _recentBtnGroup\"><span class=\"fl\"><a class=\"_delMode\" href=\"javascript:;\">기록 삭제</a></span><span><a class=\"_keywordOff\" href=\"javascript:;\">검색어저장 끄기</a><span class=\"atcmp_bar\"></span><a class=\"_acOff\" href=\"javascript:;\">자동완성 끄기</a></span></p>, <p class=\"func _recentDelBtnGroup\" style=\"display:none\"><span class=\"fl\"><a class=\"_delAll\" href=\"javascript:;\" title=\"최근 검색어 기록을 모두 삭제합니다.\">기록 전체 삭제</a></span><span><a class=\"_delDone\" href=\"javascript:;\">완료</a></span></p>, <p class=\"func _myBtnGroup\" style=\"display:none\"><span class=\"fl\"><a class=\"_delAll\" href=\"javascript:;\" title=\"설정된 내 검색어를 모두 삭제합니다.\">기록 전체 삭제</a></span><span><a class=\"_keywordOff\" href=\"javascript:;\">검색어저장 끄기</a><span class=\"atcmp_bar\"></span><a class=\"_acOff\" href=\"javascript:;\">자동완성 끄기</a></span></p>, <p><span class=\"ico_alert spat\"></span>내 검색어는 <em>최대 10</em>개 까지 저장할 수 있습니다.<br/>추가하시려면 기존 내 검색어를 지워주세요. <a class=\"btn_close _close\" href=\"javascript:;\"><i class=\"spat ico_close\">닫기</i></a></p>, <p class=\"dsc_txt\"> <span class=\"ico_alert spat\"></span><span class=\"_passage\"></span> <span class=\"term\"><span class=\"_term\"></span><a class=\"link _link\" href=\"#\" nocr=\"\" onclick=\"return goOtherCR(this,'a=sug.vote&amp;r=&amp;i=&amp;u='+urlencode(this.href));\" target=\"_blank\">자세히보기</a></span> </p>, <p class=\"gnb_account\"><span class=\"gnb_name\" id=\"gnb_name2\"><a class=\"gnb_nick\" href=\"https://nid.naver.com/user2/api/naverProfile.nhn?m=checkIdType\">_</a>님</span><a class=\"gnb_btn_login\" href=\"https://nid.naver.com/nidlogin.logout?returl=https%3A%2F%2Fsearch.naver.com%2Fsearch.naver%3Fsm%3Dtop_hty%26fbm%3D1%26ie%3Dutf8%26query%3D%25EB%2584%25A4%25EC%259D%25B4%25EB%25B2%2584%25EC%259A%25B4%25EC%2584%25B8\" id=\"gnb_logout_button\"><span class=\"gnb_bg\"></span><span class=\"gnb_bdr\"></span><span class=\"gnb_txt\">로그아웃</span></a></p>, <p class=\"gnb_pay_check\" id=\"gnb_pay_check\"><em>N Pay</em><a href=\"http://pay.naver.com\" id=\"gnb_pay_point\"><span>내 페이포인트</span></a></p>, <p class=\"gnb_msg\"><strong>알림을 모두 삭제하시겠습니까?</strong></p>, <p class=\"tit\">직접입력</p>, <p class=\"rule_check\"><input class=\"incr _or\" id=\"rch\" onclick=\"tCR('a=fno.dtsors');\" type=\"checkbox\"/><label for=\"rch\">입력한 단어가 하나이상 포함된 문서 검색</label></p>, <p class=\"tx_noti\">기본검색의 결과 범위를 줄이고자 할 때 사용합니다.<br/>여러개의 단어를 입력하실 때는<span class=\"tx\">쉼표(,)</span>로 구분해서 입력하세요.</p>, <p class=\"msg_loading _loading\" style=\"display: block;\">운세정보를 로딩 중입니다.<br/> <img alt=\"\" height=\"13\" src=\"https://ssl.pstatic.net/sstatic/keypage/outside/sign/img/20140305/img_loading.gif\" width=\"150\"/> </p>, <p class=\"msg_error _errorLayer\" style=\"display: none;\">정보 제공처와의 통신에 일시적인 문제로 데이터를 불러올수 없습니다. <br/>잠시후 시도해 주세요. <br/> <a href=\"javascript:location.reload();\" onclick='return goOtherCR(this,\"a=nco_xbv*2&amp;r=1&amp;i=\"+urlencode(\"88179563_000000000000\")+\"&amp;u=\"+urlencode(this.href));'> 새로고침 </a> <span class=\"ico\"> </span></p>, <p class=\"tx_info\"> 운세 정보는 참고용이며, 자세한 정보는 <a href=\"http://www.fortune82.com/\" nocr=\"\" onclick=\"return goOtherCR(this, 'a=nco_xbv*2.fortune82&amp;r=1&amp;i=88179563_000000000000&amp;u=' + urlencode(this.href));\" target=\"_blank\">포춘82</a> 에서 확인하세요. </p>, <p>선택한 동영상이 없습니다.<br/>신고할 동영상을 선택해 주세요.</p>, <p>선택한 이미지가 없습니다.<br/>신고할 이미지를 선택해 주세요.</p>, <p class=\"dsc\"><time>2020.04.26. 17:30 ~ 20:30</time> 기준 <a class=\"link_rts_help\" href=\"https://help.naver.com/support/alias/search/word/word_3.naver\" onclick=\"return goOtherCR(this, 'a=htk.guide&amp;r=&amp;i=&amp;u='+urlencode(this.href));\" target=\"_blank\"><i class=\"sprenew api_ico_help2\">도움말</i></a></p>, <p class=\"func _atcmpBtnGroup\"><span class=\"fl\"><a class=\"_help\" href=\"https://help.naver.com/support/alias/search/word/word_17.naver\" onclick=\"__atcmpCR(event, this, 'help', '','','');\" target=\"_blank\">도움말</a><span class=\"atcmp_bar\"></span><a class=\"report\" href=\"https://help.naver.com/support/alias/search/word/word_18.naver\" onclick=\"__atcmpCR(event, this, 'report', '','','');\" target=\"_blank\">신고</a></span><span><em><a class=\"hisoff\" href=\"javascript:;\">검색어저장 켜기</a><span class=\"atcmp_bar\"></span></em><a class=\"funoff\" href=\"javascript:;\">자동완성 끄기</a></span></p>, <p class=\"dsc\"><em class=\"txt\">동일한 시간대/연령/남녀별</em> 사용자 그룹의<br/>관심사에 맞춰 자동완성을 제공합니다.</p>, <p class=\"dsc\">ON/OFF설정은<br/>해당 기기(브라우저)에 저장됩니다.</p>, <p class=\"func _atcmpBtnGroup\"><span class=\"fl\"><a class=\"_help\" href=\"https://help.naver.com/support/alias/search/word/word_17.naver\" onclick=\"__atcmpCR(event, this, 'help', '','','');\" target=\"_blank\">도움말</a><span class=\"atcmp_bar\"></span><a class=\"report\" href=\"https://help.naver.com/support/alias/search/word/word_18.naver\" onclick=\"__atcmpCR(event, this, 'report', '','','');\" target=\"_blank\">신고</a></span><span><em><a class=\"hisoff\" href=\"javascript:;\">검색어저장 켜기</a><span class=\"atcmp_bar\"></span></em><a class=\"funoff\" href=\"javascript:;\">자동완성 끄기</a></span></p>, <p class=\"info_words\">현재 자동완성 기능을 사용하고 계십니다.</p>, <p class=\"func _atcmpBtnGroup\"><span class=\"fl\"><a class=\"_help\" href=\"https://help.naver.com/support/alias/search/word/word_17.naver\" onclick=\"__atcmpCR(event, this, 'help', '','','');\" target=\"_blank\">도움말</a><span class=\"atcmp_bar\"></span><a class=\"report\" href=\"https://help.naver.com/support/alias/search/word/word_18.naver\" onclick=\"__atcmpCR(event, this, 'report', '','','');\" target=\"_blank\">신고</a></span><span><em><a class=\"hisoff\" href=\"javascript:;\">검색어저장 켜기</a><span class=\"atcmp_bar\"></span></em><a class=\"funoff\" href=\"javascript:;\">자동완성 끄기</a></span></p>, <p class=\"info_words\">자동완성 기능이 활성화되었습니다.</p>, <p class=\"func _atcmpBtnGroup\"><span class=\"fl\"><a class=\"_help\" href=\"https://help.naver.com/support/alias/search/word/word_17.naver\" onclick=\"__atcmpCR(event, this, 'help', '','','');\" target=\"_blank\">도움말</a><span class=\"atcmp_bar\"></span><a class=\"report\" href=\"https://help.naver.com/support/alias/search/word/word_18.naver\" onclick=\"__atcmpCR(event, this, 'report', '','','');\" target=\"_blank\">신고</a></span><span><em><a class=\"hisoff\" href=\"javascript:;\">검색어저장 켜기</a><span class=\"atcmp_bar\"></span></em><a class=\"funoff\" href=\"javascript:;\">자동완성 켜기</a></span></p>, <p class=\"info_words\">자동완성 기능이 꺼져 있습니다.</p>, <p class=\"func _recentBtnGroup\"><span class=\"fl\"><a class=\"_delMode\" href=\"javascript:;\">기록 삭제</a></span><span><a class=\"_keywordOff\" href=\"javascript:;\">검색어저장 끄기</a><span class=\"atcmp_bar\"></span><a class=\"_acOff\" href=\"javascript:;\">자동완성 끄기</a></span></p>, <p class=\"func _recentDelBtnGroup\" style=\"display:none\"><span class=\"fl\"><a class=\"_delAll\" href=\"javascript:;\" title=\"최근 검색어 기록을 모두 삭제합니다.\">기록 전체 삭제</a></span><span><a class=\"_delDone\" href=\"javascript:;\">완료</a></span></p>, <p class=\"func _myBtnGroup\" style=\"display:none\"><span class=\"fl\"><a class=\"_delAll\" href=\"javascript:;\" title=\"설정된 내 검색어를 모두 삭제합니다.\">기록 전체 삭제</a></span><span><a class=\"_keywordOff\" href=\"javascript:;\">검색어저장 끄기</a><span class=\"atcmp_bar\"></span><a class=\"_acOff\" href=\"javascript:;\">자동완성 끄기</a></span></p>, <p class=\"noti _noti\" style=\"display:none\"><em class=\"ico_noti spat\"><span class=\"blind\">알림</span></em>공용 PC에서는 개인정보 보호를 위하여 반드시 로그아웃을 해 주세요.</p>, <p class=\"info_words _offMsg\" style=\"display:none\">검색어 저장 기능이 꺼져 있습니다.</p>, <p class=\"info_words _offMsg\" style=\"display:none\">검색어 저장 기능이 꺼져 있습니다.</p>, <p><span class=\"ico_alert spat\"></span>내 검색어는 <em>최대 10</em>개 까지 저장할 수 있습니다.<br/>추가하시려면 기존 내 검색어를 지워주세요. <a class=\"btn_close _close\" href=\"javascript:;\"><i class=\"spat ico_close\">닫기</i></a></p>, <p class=\"dsc_txt\"> <span class=\"ico_alert spat\"></span><span class=\"_passage\"></span> <span class=\"term\"><span class=\"_term\"></span><a class=\"link _link\" href=\"#\" nocr=\"\" onclick=\"return goOtherCR(this,'a=sug.vote&amp;r=&amp;i=&amp;u='+urlencode(this.href));\" target=\"_blank\">자세히보기</a></span> </p>, <p class=\"today _footer\"><span>오늘날짜</span><a class=\"_today\" href=\"#\" onclick=\"return tCR('a=fno.datecalendertoday');\">2020.04.26 (일)</a> </p>]\n"
     ]
    }
   ],
   "source": [
    "from selenium import webdriver\n",
    "import time\n",
    "from bs4 import BeautifulSoup\n",
    "\n",
    "driver = webdriver.Chrome('chromedriver.exe')\n",
    "driver.implicitly_wait(3)\n",
    "url = \"https://search.naver.com/search.naver?sm=top_hty&fbm=1&ie=utf8&query=%EB%84%A4%EC%9D%B4%EB%B2%84%EC%9A%B4%EC%84%B8\"\n",
    "driver.get(url)\n",
    "\n",
    "driver.find_element_by_xpath('//*[@id=\"srch_txt\"]').click()\n",
    "driver.find_element_by_css_selector('#nx_query').click()\n",
    "time.sleep(1)\n",
    "driver.find_element_by_xpath('//*[@id=\"srch_txt\"]').click()\n",
    "driver.find_element_by_css_selector('#srch_txt').send_keys('19801111')\n",
    "driver.find_element_by_xpath('//*[@id=\"fortune_birthCondition\"]/div[1]/fieldset/input').click()\n",
    "#     driver.find_element_by_xpath('//*[@id=\"fortune_birthResult\"]/dl[1]/dd/p').\n",
    "soup = BeautifulSoup(driver.page_source, \"html.parser\")\n",
    "print(soup.find_all(\"p\")) \n",
    "#     <dl class=\"infor _luckText v2\" style=\"display: block;\"><dt class=\"blind\">총운</dt><dd><strong>4월 26일의 운세 총운은 <b>“일장일단”</b> 입니다.</strong><p>내게 힘을 주는 이가 많고 지원군이 많은 날입니다. 자신감을 가지고 일에 임하는 것이 좋겠군요. 자신이 하는 만큼 일에서도 그 결과가 좋게 나타나면 주위에서의 지원이 끊이지 않아 자신이 하는 일에 대해 아무런 어려움 없이 나아갈 수 있습니다. 또한 한꺼번에 두 가지 일을 해도 길합니다. 두 마리 토끼를 동시에 잡는 것이 가능한 날입니다. 멀리서 좋은 소식을 듣기도 합니다. 기대했던 만남이나 생각지 못한 사람과의 만남이 자신의 일에 좋은 영향으로 작용할 수 있습니다. 예상치 않은 행운이 당신에게 기회를 주네요.</p></dd></dl>"
   ]
  },
  {
   "cell_type": "code",
   "execution_count": 79,
   "metadata": {},
   "outputs": [],
   "source": [
    "user = {'name':'egoing', 'birth':'199440812'}"
   ]
  },
  {
   "cell_type": "code",
   "execution_count": 80,
   "metadata": {},
   "outputs": [
    {
     "data": {
      "text/plain": [
       "2"
      ]
     },
     "execution_count": 80,
     "metadata": {},
     "output_type": "execute_result"
    }
   ],
   "source": [
    "len(user)"
   ]
  },
  {
   "cell_type": "code",
   "execution_count": null,
   "metadata": {},
   "outputs": [],
   "source": []
  }
 ],
 "metadata": {
  "kernelspec": {
   "display_name": "Python 3",
   "language": "python",
   "name": "python3"
  },
  "language_info": {
   "codemirror_mode": {
    "name": "ipython",
    "version": 3
   },
   "file_extension": ".py",
   "mimetype": "text/x-python",
   "name": "python",
   "nbconvert_exporter": "python",
   "pygments_lexer": "ipython3",
   "version": "3.7.6"
  }
 },
 "nbformat": 4,
 "nbformat_minor": 4
}
